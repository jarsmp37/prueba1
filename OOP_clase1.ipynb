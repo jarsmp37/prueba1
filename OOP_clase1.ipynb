{
  "cells": [
    {
      "cell_type": "markdown",
      "metadata": {
        "id": "iVNiahSMJJz1"
      },
      "source": [
        "# Introducción a la Programación Orientada a Objetos (OOP)\n",
        "\n",
        "En la **Programación Orientada a Objetos (OOP)**, los programas se organizan en torno a **objetos** que interactúan entre sí. Los objetos son instancias de **clases**, que definen las propiedades (atributos) y comportamientos (métodos) de esos objetos.\n",
        "\n",
        "### Conceptos Importantes:\n",
        "1. **Clase**: Es una plantilla o molde que define las propiedades y métodos de un objeto.\n",
        "2. **Objeto**: Es una instancia de una clase.\n",
        "3. **Método**: Es una función definida dentro de una clase. Los métodos son los comportamientos que los objetos pueden realizar.\n",
        "4. **Atributo (propiedad)**: Es una variable que pertenece a un objeto o clase. Define las características de los objetos.\n",
        "\n",
        "### `__init__` y `self`:\n",
        "- **`__init__`**: Es un método especial en Python llamado **constructor**. Este método se llama automáticamente cuando se crea un nuevo objeto de la clase. Sirve para inicializar las propiedades del objeto.\n",
        "- **`self`**: Es una referencia al propio objeto. Se usa dentro de los métodos de la clase para acceder a los atributos y otros métodos de ese objeto.\n",
        "\n",
        "Ahora vamos a crear un ejemplo de una clase simple llamada `Perro`, con propiedades y métodos para comprender estos conceptos.\n"
      ]
    },
    {
      "cell_type": "code",
      "execution_count": null,
      "metadata": {
        "id": "ionO-NWHJJz6",
        "outputId": "72e3c9ca-0b38-4a8f-dbe4-5cdf18fbd3ee"
      },
      "outputs": [
        {
          "name": "stdout",
          "output_type": "stream",
          "text": [
            "Rex dice: ¡Guau guau!\n",
            "La edad de Rex en años humanos es: 21\n"
          ]
        }
      ],
      "source": [
        "# Definimos la clase 'Perro'\n",
        "class Perro:\n",
        "    # El método __init__ es el constructor de la clase aquí definimos atributos\n",
        "    def __init__(self, nombre, edad):\n",
        "        # 'self' hace referencia a la instancia actual del objeto\n",
        "        # Definimos las propiedades del objeto\n",
        "        self.nombre = nombre  # Atributo: nombre del perro\n",
        "        self.edad = edad      # Atributo: edad del perro\n",
        "\n",
        "    # Método para que el perro \"hable\"\n",
        "    def hablar(self):\n",
        "        print(f\"{self.nombre} dice: ¡Guau guau!\")\n",
        "\n",
        "    # Método para calcular la edad en años humanos\n",
        "    def edad_humana(self):\n",
        "        return self.edad * 7\n",
        "\n",
        "# Crear un objeto de la clase 'Perro'\n",
        "mi_perro = Perro(\"Rex\", 3)\n",
        "\n",
        "# Llamar a los métodos del objeto\n",
        "mi_perro.hablar()\n",
        "print(f\"La edad de {mi_perro.nombre} en años humanos es: {mi_perro.edad_humana()}\")\n"
      ]
    },
    {
      "cell_type": "markdown",
      "metadata": {
        "id": "7Yrap8HyJJz-"
      },
      "source": [
        "### Explicación del Código:\n",
        "\n",
        "1. **Clase `Perro`**:\n",
        "   - Definimos una clase llamada `Perro`, que es un **molde** para crear objetos tipo \"perro\".\n",
        "\n",
        "2. **El Método `__init__` (Constructor)**:\n",
        "   - El método `__init__` es un **método especial** que se ejecuta automáticamente cuando se crea un nuevo objeto de la clase.\n",
        "   - En este caso, recibe dos parámetros: `nombre` y `edad`. Estos valores son proporcionados cuando se crea el objeto.\n",
        "   - El `self` dentro del método `__init__` se refiere al objeto mismo. Es como una referencia interna que le permite al método acceder a los atributos y métodos del objeto.\n",
        "   - **Definición de propiedades (atributos)**:\n",
        "     - `self.nombre` y `self.edad` son los **atributos** del objeto. Son las propiedades del perro. Aquí estamos asignando el `nombre` y la `edad` del perro a las propiedades del objeto.\n",
        "   \n",
        "3. **Uso del `self`**:\n",
        "   - `self` es una forma de referirse al **objeto actual**. No se pasa explícitamente cuando llamamos a los métodos o creamos el objeto, pero es necesario dentro de los métodos para poder acceder y modificar los atributos del objeto.\n",
        "   - Cuando creamos el objeto `mi_perro = Perro(\"Rex\", 3)`, Python automáticamente pasa la referencia del objeto `mi_perro` al `self` en el método `__init__`.\n",
        "\n",
        "4. **Métodos `hablar` y `edad_humana`**:\n",
        "   - **`hablar`**: Imprime un mensaje indicando que el perro habla.\n",
        "   - **`edad_humana`**: Calcula y devuelve la edad del perro en años humanos. La fórmula usada es multiplicar la edad del perro por 7.\n",
        "\n",
        "5. **Creación y uso de un objeto**:\n",
        "   - Creamos un objeto `mi_perro` de la clase `Perro` con los valores `\"Rex\"` y `3` para nombre y edad.\n",
        "   - Posteriormente, usamos el método `hablar()` para hacer que el perro \"hable\" y `edad_humana()` para obtener su edad en años humanos.\n",
        "\n",
        "\n"
      ]
    },
    {
      "cell_type": "markdown",
      "metadata": {
        "id": "FO6KSOAQJJz_"
      },
      "source": [
        "## Ejercicio de clase\n",
        "1. Crea una clase llamada `Coche` que tenga propiedades como `marca`, `modelo`, `año` y `color`.\n",
        "2. Añade un método llamado `descripcion` que imprima una descripción del coche en el siguiente formato:\n",
        "   - \"Este coche es de color [color] de la marca [marca] y modelo [modelo] del año [año].\"\n",
        "3. Crea 4 objetos de la clase `Coche` y llama al método `descripcion` para mostrar los detalles del coche.\n",
        "     - `coche1`: Ford Mustang 2020 Azul\n",
        "     - `coche2`: Chevrolet Camaro 2019 Rojo\n",
        "     - `coche3`: BMW X5 2022 Negro\n",
        "     - `coche4`: Audi A4 2021 Blanco"
      ]
    },
    {
      "cell_type": "code",
      "execution_count": null,
      "metadata": {
        "id": "tZqTXI-wJJ0A",
        "outputId": "649992d5-1c43-4374-a365-81a00d3a4265"
      },
      "outputs": [
        {
          "name": "stdout",
          "output_type": "stream",
          "text": [
            "Este coche es de color Azul de la marca Ford y modelo Mustang del año 2020.\n",
            "Este coche es de color Rojo de la marca Chevrolet y modelo Camaro del año 2019.\n",
            "Este coche es de color Negro de la marca BMW y modelo X5 del año 2022.\n",
            "Este coche es de color Blanco de la marca Audi y modelo A4 del año 2021.\n"
          ]
        }
      ],
      "source": [
        "class Coche:\n",
        "    def __init__(self,marca,modelo,año,color):\n",
        "        self.mark=marca\n",
        "        self.model=modelo\n",
        "        self.year=año\n",
        "        self.color=color\n",
        "\n",
        "    def descripcion(self):\n",
        "        print(f\"Este coche es de color {self.color} de la marca {self.mark} y modelo {self.model} del año {self.year}.\")\n",
        "\n",
        "coche1=Coche(\"Ford\",\"Mustang\",2020,\"Azul\")\n",
        "coche2=Coche(\"Chevrolet\",\"Camaro\",2019,\"Rojo\")\n",
        "coche3=Coche(\"BMW\",\"X5\",2022,\"Negro\")\n",
        "coche4=Coche(\"Audi\",\"A4\",2021,\"Blanco\")\n",
        "\n",
        "coche1.descripcion()\n",
        "coche2.descripcion()\n",
        "coche3.descripcion()\n",
        "coche4.descripcion()"
      ]
    },
    {
      "cell_type": "markdown",
      "metadata": {
        "id": "zNp6MhUeJJ0B"
      },
      "source": [
        "## Qué Hace el siguiente código?\n"
      ]
    },
    {
      "cell_type": "code",
      "execution_count": null,
      "metadata": {
        "id": "0PwZb1q_JJ0C",
        "outputId": "60c460bb-9cd0-44bd-e2ac-c4914a3a75cd"
      },
      "outputs": [
        {
          "name": "stdout",
          "output_type": "stream",
          "text": [
            "Bienvenido Dueño\n",
            "Tu capacidad es de 256\n"
          ]
        }
      ],
      "source": [
        "class App:\n",
        "    def __init__(self,usuarios,capacidad,nombreusuario):\n",
        "        self.usuarios=usuarios\n",
        "        self.capacidad=capacidad\n",
        "        self.nombreusuario=nombreusuario\n",
        "\n",
        "    def login(self):\n",
        "        if self.nombreusuario==\"Dueño\" and self.usuarios>=1:\n",
        "            print(f\"Bienvenido {self.nombreusuario}\")\n",
        "            print(f\"Tu capacidad es de {self.capacidad}\")\n",
        "\n",
        "    def incrementar(self,numero):\n",
        "        self.capacidad+=numero\n",
        "        return self.capacidad\n",
        "\n",
        "us1=App(35,256,\"Dueño\")\n",
        "us1.login()\n",
        "us1.incrementar(50)\n",
        "\n",
        "us2=App(40,245,\"Alan\")\n",
        "us2.login()"
      ]
    },
    {
      "cell_type": "markdown",
      "metadata": {
        "id": "FMJoWPdGJJ0E"
      },
      "source": [
        "# Ejercicio Calificaciones de clase\n"
      ]
    },
    {
      "cell_type": "code",
      "execution_count": null,
      "metadata": {
        "id": "oce10mr7JJ0E"
      },
      "outputs": [],
      "source": [
        "class Alumno:\n",
        "    def __init__(self,nombre,matricula):\n",
        "        self.nombre=nombre\n",
        "        self.matricula=matricula\n",
        "        self.calif=[]\n",
        "\n",
        "    def agregar_calificacion(self,calificacion):\n",
        "        self.calif.append(calificacion)\n",
        "\n",
        "    def calcular_promedio(self):\n",
        "        return sum(self.calif)/len(self.calif)\n",
        "\n",
        "    def estado_final(self):\n",
        "        promedio = self.calcular_promedio()\n",
        "        return \"Aprobado\" if promedio >= 70 else \"Reprobado\"\n",
        "\n",
        "    def est_final(self):\n",
        "        if self.calcular_promedio()>=70:\n",
        "            return \"Aprobado\"\n",
        "        else:\n",
        "            return \"Reprobado\"\n",
        "\n",
        "\n",
        "\n",
        "class Grupo:\n",
        "    def __init__(self, nombre_grupo):\n",
        "        self.nombre_grupo = nombre_grupo\n",
        "        self.alumnos = []\n",
        "\n",
        "    def agregar_alumno(self, alumno):\n",
        "        self.alumnos.append(alumno)\n",
        "\n",
        "    def mostrar_promedios(self):\n",
        "        print(f\"Promedios del grupo {self.nombre_grupo}:\")\n",
        "        for alumno in self.alumnos:\n",
        "            promedio = alumno.calcular_promedio()\n",
        "            estado = alumno.estado_final()\n",
        "            print(f\"{alumno.nombre} ({alumno.matricula}): Promedio = {promedio:.2f}, Estado = {estado}\")\n",
        "\n",
        "    def mejor_alumno(self):\n",
        "        if not self.alumnos:\n",
        "            print(\"No hay alumnos en el grupo.\")\n",
        "            return None\n",
        "        mejor = max(self.alumnos, key=lambda alumno: alumno.calcular_promedio())\n",
        "        print(f\"El mejor alumno es {mejor.nombre} ({mejor.matricula}) con un promedio de {mejor.calcular_promedio():.2f}.\")\n",
        "\n"
      ]
    },
    {
      "cell_type": "code",
      "execution_count": null,
      "metadata": {
        "id": "eHTqYA3nJJ0G",
        "outputId": "aa5a4294-ca75-43de-b813-f23b961dcf46"
      },
      "outputs": [
        {
          "name": "stdout",
          "output_type": "stream",
          "text": [
            "87.5\n",
            "87.66666666666667\n",
            "65.75\n",
            "Aprobado\n",
            "Aprobado\n",
            "Reprobado\n"
          ]
        }
      ],
      "source": [
        "alumno1 = Alumno(\"Ninive Garcia\", 34214213)\n",
        "alumno2 = Alumno(\"Paola Reyes\", 39283)\n",
        "alumno3 = Alumno(\"Cristian Muñoz\", 12314)\n",
        "\n",
        "alumno1.agregar_calificacion(85)\n",
        "alumno1.agregar_calificacion(90)\n",
        "\n",
        "alumno2.agregar_calificacion(95)\n",
        "alumno2.agregar_calificacion(70)\n",
        "alumno2.agregar_calificacion(98)\n",
        "\n",
        "alumno3.agregar_calificacion(65)\n",
        "alumno3.agregar_calificacion(72)\n",
        "alumno3.agregar_calificacion(61)\n",
        "alumno3.agregar_calificacion(65)\n",
        "\n",
        "print(alumno1.calcular_promedio())\n",
        "print(alumno2.calcular_promedio())\n",
        "print(alumno3.calcular_promedio())\n",
        "\n",
        "print(alumno1.estado_final())\n",
        "print(alumno2.estado_final())\n",
        "print(alumno3.estado_final())\n"
      ]
    },
    {
      "cell_type": "markdown",
      "metadata": {
        "id": "ORX9NLjZJJ0H"
      },
      "source": [
        "## ¿Qué es una función lambda?\n",
        "\n",
        "Una **función lambda** en Python es una función anónima, es decir, una función que no tiene un nombre explícito. Estas funciones son útiles cuando necesitas crear una función sencilla para usar una sola vez o pasarla como argumento a otra función.\n",
        "\n",
        "### Sintaxis de una función lambda:\n",
        "```python\n",
        "lambda argumentos: expresión"
      ]
    },
    {
      "cell_type": "code",
      "execution_count": null,
      "metadata": {
        "id": "vWJbC4zuJJ0H",
        "outputId": "61c7ce1f-6074-4b9b-f9be-f06b20b83bcb"
      },
      "outputs": [
        {
          "name": "stdout",
          "output_type": "stream",
          "text": [
            "El resultado de la suma es: 12\n"
          ]
        }
      ],
      "source": [
        "suma = lambda x, y: x + y\n",
        "resultado = suma(5, 7)\n",
        "print(f\"El resultado de la suma es: {resultado}\")"
      ]
    },
    {
      "cell_type": "code",
      "execution_count": null,
      "metadata": {
        "id": "1QWYE9GiJJ0I",
        "outputId": "c826efd8-3af5-4030-c931-4dec5a466502"
      },
      "outputs": [
        {
          "name": "stdout",
          "output_type": "stream",
          "text": [
            "Promedios del grupo Programación Avanzada:\n",
            "Ninive Garcia (34214213): Promedio = 87.50, Estado = Aprobado\n",
            "Paola Reyes (39283): Promedio = 87.67, Estado = Aprobado\n",
            "Cristian Muñoz (12314): Promedio = 65.75, Estado = Reprobado\n",
            "El mejor alumno es Paola Reyes (39283) con un promedio de 87.67.\n"
          ]
        }
      ],
      "source": [
        "\n",
        "grupo = Grupo(\"Programación Avanzada\")\n",
        "grupo.agregar_alumno(alumno1)\n",
        "grupo.agregar_alumno(alumno2)\n",
        "grupo.agregar_alumno(alumno3)\n",
        "\n",
        "grupo.mostrar_promedios()\n",
        "grupo.mejor_alumno()\n"
      ]
    },
    {
      "cell_type": "markdown",
      "metadata": {
        "id": "WRZVTBABJJ0I"
      },
      "source": [
        "# Ejercicio Hotel"
      ]
    },
    {
      "cell_type": "code",
      "execution_count": null,
      "metadata": {
        "id": "cP8gaNTTJJ0J"
      },
      "outputs": [],
      "source": [
        "class Habitacion:\n",
        "    color=\"azul\"\n",
        "    mueble=\"Escritorio\"\n",
        "    def __init__(self, numero, tipo, precio):\n",
        "        self.numero = numero\n",
        "        self.tipo = tipo\n",
        "        self.precio = precio\n",
        "        self.reservada = False\n",
        "\n",
        "    def descripcion(self):\n",
        "        return f\"Habitación {self.numero} ({self.tipo}) - ${self.precio}/noche\""
      ]
    },
    {
      "cell_type": "code",
      "execution_count": null,
      "metadata": {
        "id": "qzsn2-V2JJ0J",
        "outputId": "82c42680-9b62-4470-9b31-17c89b7ff559"
      },
      "outputs": [
        {
          "name": "stdout",
          "output_type": "stream",
          "text": [
            "azul\n",
            "azul\n",
            "azul\n",
            "la habitación 101 cuenta con Escritorio\n",
            "la habitación 102 cuenta con Escritorio\n",
            "la habitación 103 cuenta con Escritorio\n"
          ]
        }
      ],
      "source": [
        "h101 = Habitacion(101, \"Doble\", 150)\n",
        "h102 = Habitacion(102, \"Individual\", 100)\n",
        "h103 = Habitacion(103, \"Suite\", 250)\n",
        "print(h101.color)\n",
        "print(h102.color)\n",
        "print(h103.color)\n",
        "print(f\"la habitación {h101.numero} cuenta con {h101.mueble}\")\n",
        "print(f\"la habitación {h102.numero} cuenta con {h102.mueble}\")\n",
        "print(f\"la habitación {h103.numero} cuenta con {h103.mueble}\")\n"
      ]
    },
    {
      "cell_type": "code",
      "execution_count": null,
      "metadata": {
        "id": "hJGlP6BrJJ0K"
      },
      "outputs": [],
      "source": [
        "from datetime import datetime\n",
        "\n",
        "class Reserva:\n",
        "    def __init__(self, huesped, habitacion, fecha_inicio, fecha_fin):\n",
        "        self.huesped = huesped\n",
        "        self.habitacion = habitacion\n",
        "        self.fecha_inicio = fecha_inicio\n",
        "        self.fecha_fin = fecha_fin\n",
        "\n",
        "    def calcular_costo(self):\n",
        "        dias = (self.fecha_fin - self.fecha_inicio).days\n",
        "        return dias * self.habitacion.precio\n",
        "\n",
        "    def detalle(self):\n",
        "        costo = self.calcular_costo()\n",
        "        return (f\"Reserva para {self.huesped} en Habitación {self.habitacion.numero} \"\n",
        "                f\"del {self.fecha_inicio.date()} al {self.fecha_fin.date()} \"\n",
        "                f\"- Total: ${costo}\")\n"
      ]
    },
    {
      "cell_type": "code",
      "execution_count": null,
      "metadata": {
        "id": "H-kFq6jdJJ0L",
        "outputId": "c27448e5-78d1-4aa7-aa68-48276a068764"
      },
      "outputs": [
        {
          "name": "stdout",
          "output_type": "stream",
          "text": [
            "Reserva para Juan Pérez en Habitación 101 del 2025-01-15 al 2025-01-20 - Total: $750\n"
          ]
        }
      ],
      "source": [
        "h101 = Habitacion(101, \"Doble\", 150)\n",
        "reserva = Reserva(\"Juan Pérez\", h101, datetime(2025, 1, 15), datetime(2025, 1, 20))\n",
        "print(reserva.detalle())"
      ]
    }
  ],
  "metadata": {
    "kernelspec": {
      "display_name": "Python 3",
      "language": "python",
      "name": "python3"
    },
    "language_info": {
      "codemirror_mode": {
        "name": "ipython",
        "version": 3
      },
      "file_extension": ".py",
      "mimetype": "text/x-python",
      "name": "python",
      "nbconvert_exporter": "python",
      "pygments_lexer": "ipython3",
      "version": "3.12.6"
    },
    "colab": {
      "provenance": []
    }
  },
  "nbformat": 4,
  "nbformat_minor": 0
}